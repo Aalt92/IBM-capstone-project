{
 "cells": [
  {
   "cell_type": "markdown",
   "metadata": {},
   "source": [
    "![logo](IBM-logo.jpg)"
   ]
  },
  {
   "cell_type": "markdown",
   "metadata": {},
   "source": [
    "![logo](coursera.png)"
   ]
  },
  {
   "cell_type": "markdown",
   "metadata": {},
   "source": [
    "# IBM Capstone Data Science Project"
   ]
  },
  {
   "cell_type": "markdown",
   "metadata": {},
   "source": [
    "**Table of contents**\n",
    "1. [Data acquisition](#Chapter1) \n",
    "2. [Data cleaning](#Chapter2)\n",
    "3. [Analysis](Chapter3)"
   ]
  },
  {
   "cell_type": "markdown",
   "metadata": {},
   "source": [
    "This notebook will be used to demonstrate the learned skills within the IBM data science course on Coursera."
   ]
  },
  {
   "cell_type": "code",
   "execution_count": 129,
   "metadata": {},
   "outputs": [
    {
     "name": "stdout",
     "output_type": "stream",
     "text": [
      "Libraries imported.\n"
     ]
    }
   ],
   "source": [
    "import pandas as pd # Library for dataframe manipulations\n",
    "import numpy as np # library for mathematical functions\n",
    "import requests # library to handle requests\n",
    "import random # library for random number generation\n",
    "from geopy.geocoders import Nominatim # module to convert an address into latitude and longitude values\n",
    "import folium # plotting library\n",
    "import geocoder # import geocoder\n",
    "\n",
    "# libraries for displaying images\n",
    "from IPython.display import Image \n",
    "from IPython.core.display import HTML \n",
    "\n",
    "# tranforming json file into a pandas dataframe library\n",
    "from pandas.io.json import json_normalize\n",
    "import json\n",
    "import csv\n",
    "from json import load\n",
    "\n",
    "print('Libraries imported.')"
   ]
  },
  {
   "cell_type": "code",
   "execution_count": 130,
   "metadata": {},
   "outputs": [],
   "source": [
    "pd.set_option('display.max_columns', None)\n",
    "pd.set_option('display.max_rows', None)"
   ]
  },
  {
   "cell_type": "markdown",
   "metadata": {},
   "source": [
    "## 1. Data acquisition <a name=\"Chapter1\"></a>"
   ]
  },
  {
   "cell_type": "markdown",
   "metadata": {},
   "source": [
    "To aquire the data for the clustering of Toronto webscraping is used. To be able to webscrape the data from [Wikipedia](https://en.wikipedia.org/wiki/List_of_postal_codes_of_Canada:_M), I use the package [pandas](https://pandas.pydata.org/pandas-docs/stable/)."
   ]
  },
  {
   "cell_type": "code",
   "execution_count": 2,
   "metadata": {},
   "outputs": [],
   "source": [
    "tables = pd.read_html('https://en.wikipedia.org/wiki/List_of_postal_codes_of_Canada:_M', header=0) # to acces the wikipedia page\n",
    "\n",
    "# now to construct the dataframe using pandas\n",
    "headings = ['Postcode', 'Borough', 'Neighbourhood']\n",
    "for table in tables:\n",
    "    current_headings = table.columns.values[:3]\n",
    "    if list(current_headings) == headings:\n",
    "        break\n"
   ]
  },
  {
   "cell_type": "code",
   "execution_count": 3,
   "metadata": {},
   "outputs": [],
   "source": [
    "table['Postcode'].replace({r'.*!(.*)': r'\\1'}, regex=True, inplace=True)\n",
    "table['Borough'].replace({r'.*!(.*)': r'\\1'}, regex=True, inplace=True)\n",
    "table['Neighbourhood'].replace({r'.*!(.*)': r'\\1'}, regex=True, inplace=True)\n",
    "\n",
    "table[headings].to_csv('test.txt', sep=',', header=False, index=False)"
   ]
  },
  {
   "cell_type": "code",
   "execution_count": 4,
   "metadata": {
    "scrolled": true
   },
   "outputs": [
    {
     "data": {
      "text/html": [
       "<div>\n",
       "<style scoped>\n",
       "    .dataframe tbody tr th:only-of-type {\n",
       "        vertical-align: middle;\n",
       "    }\n",
       "\n",
       "    .dataframe tbody tr th {\n",
       "        vertical-align: top;\n",
       "    }\n",
       "\n",
       "    .dataframe thead th {\n",
       "        text-align: right;\n",
       "    }\n",
       "</style>\n",
       "<table border=\"1\" class=\"dataframe\">\n",
       "  <thead>\n",
       "    <tr style=\"text-align: right;\">\n",
       "      <th></th>\n",
       "      <th>Postcode</th>\n",
       "      <th>Borough</th>\n",
       "      <th>Neighbourhood</th>\n",
       "    </tr>\n",
       "  </thead>\n",
       "  <tbody>\n",
       "    <tr>\n",
       "      <td>0</td>\n",
       "      <td>M1A</td>\n",
       "      <td>Not assigned</td>\n",
       "      <td>Not assigned</td>\n",
       "    </tr>\n",
       "    <tr>\n",
       "      <td>1</td>\n",
       "      <td>M2A</td>\n",
       "      <td>Not assigned</td>\n",
       "      <td>Not assigned</td>\n",
       "    </tr>\n",
       "    <tr>\n",
       "      <td>2</td>\n",
       "      <td>M3A</td>\n",
       "      <td>North York</td>\n",
       "      <td>Parkwoods</td>\n",
       "    </tr>\n",
       "    <tr>\n",
       "      <td>3</td>\n",
       "      <td>M4A</td>\n",
       "      <td>North York</td>\n",
       "      <td>Victoria Village</td>\n",
       "    </tr>\n",
       "    <tr>\n",
       "      <td>4</td>\n",
       "      <td>M5A</td>\n",
       "      <td>Downtown Toronto</td>\n",
       "      <td>Harbourfront</td>\n",
       "    </tr>\n",
       "  </tbody>\n",
       "</table>\n",
       "</div>"
      ],
      "text/plain": [
       "  Postcode           Borough     Neighbourhood\n",
       "0      M1A      Not assigned      Not assigned\n",
       "1      M2A      Not assigned      Not assigned\n",
       "2      M3A        North York         Parkwoods\n",
       "3      M4A        North York  Victoria Village\n",
       "4      M5A  Downtown Toronto      Harbourfront"
      ]
     },
     "execution_count": 4,
     "metadata": {},
     "output_type": "execute_result"
    }
   ],
   "source": [
    "df = pd.DataFrame(table)\n",
    "df.head()"
   ]
  },
  {
   "cell_type": "markdown",
   "metadata": {},
   "source": [
    "## 2. Data cleaning <a name=\"Chapter2\"></a>"
   ]
  },
  {
   "cell_type": "markdown",
   "metadata": {},
   "source": [
    "At this stage the dataset will be assesed. If there are any missing values or other values that could impact the analysis they are removed or dealt with accordingly."
   ]
  },
  {
   "cell_type": "code",
   "execution_count": 5,
   "metadata": {},
   "outputs": [
    {
     "data": {
      "text/html": [
       "<div>\n",
       "<style scoped>\n",
       "    .dataframe tbody tr th:only-of-type {\n",
       "        vertical-align: middle;\n",
       "    }\n",
       "\n",
       "    .dataframe tbody tr th {\n",
       "        vertical-align: top;\n",
       "    }\n",
       "\n",
       "    .dataframe thead th {\n",
       "        text-align: right;\n",
       "    }\n",
       "</style>\n",
       "<table border=\"1\" class=\"dataframe\">\n",
       "  <thead>\n",
       "    <tr style=\"text-align: right;\">\n",
       "      <th></th>\n",
       "      <th>Postcode</th>\n",
       "      <th>Borough</th>\n",
       "      <th>Neighbourhood</th>\n",
       "    </tr>\n",
       "  </thead>\n",
       "  <tbody>\n",
       "    <tr>\n",
       "      <td>2</td>\n",
       "      <td>M3A</td>\n",
       "      <td>North York</td>\n",
       "      <td>Parkwoods</td>\n",
       "    </tr>\n",
       "    <tr>\n",
       "      <td>3</td>\n",
       "      <td>M4A</td>\n",
       "      <td>North York</td>\n",
       "      <td>Victoria Village</td>\n",
       "    </tr>\n",
       "    <tr>\n",
       "      <td>4</td>\n",
       "      <td>M5A</td>\n",
       "      <td>Downtown Toronto</td>\n",
       "      <td>Harbourfront</td>\n",
       "    </tr>\n",
       "    <tr>\n",
       "      <td>5</td>\n",
       "      <td>M6A</td>\n",
       "      <td>North York</td>\n",
       "      <td>Lawrence Heights</td>\n",
       "    </tr>\n",
       "    <tr>\n",
       "      <td>6</td>\n",
       "      <td>M6A</td>\n",
       "      <td>North York</td>\n",
       "      <td>Lawrence Manor</td>\n",
       "    </tr>\n",
       "  </tbody>\n",
       "</table>\n",
       "</div>"
      ],
      "text/plain": [
       "  Postcode           Borough     Neighbourhood\n",
       "2      M3A        North York         Parkwoods\n",
       "3      M4A        North York  Victoria Village\n",
       "4      M5A  Downtown Toronto      Harbourfront\n",
       "5      M6A        North York  Lawrence Heights\n",
       "6      M6A        North York    Lawrence Manor"
      ]
     },
     "execution_count": 5,
     "metadata": {},
     "output_type": "execute_result"
    }
   ],
   "source": [
    "# Adressing the not assigned values\n",
    "df['Borough'].replace('Not assigned', np.NaN, inplace=True)\n",
    "df.dropna(inplace=True)\n",
    "# to verify that it worked\n",
    "df.head()"
   ]
  },
  {
   "cell_type": "code",
   "execution_count": 6,
   "metadata": {},
   "outputs": [],
   "source": [
    "# grouping values based on zipcode\n",
    "df = df.groupby(['Postcode', 'Borough'])['Neighbourhood'].apply(', '.join).reset_index()"
   ]
  },
  {
   "cell_type": "code",
   "execution_count": 7,
   "metadata": {
    "scrolled": true
   },
   "outputs": [
    {
     "name": "stdout",
     "output_type": "stream",
     "text": [
      "(103, 3)\n"
     ]
    }
   ],
   "source": [
    "# shape of the current dataframe\n",
    "print(df.shape)"
   ]
  },
  {
   "cell_type": "markdown",
   "metadata": {},
   "source": [
    "###  Geospatial Coordinates "
   ]
  },
  {
   "cell_type": "code",
   "execution_count": 8,
   "metadata": {},
   "outputs": [],
   "source": [
    "df2 = pd.read_csv('Geospatial_Coordinates.csv')\n",
    "df2 = pd.DataFrame(df2)"
   ]
  },
  {
   "cell_type": "code",
   "execution_count": 9,
   "metadata": {
    "scrolled": true
   },
   "outputs": [],
   "source": [
    "df2.rename(columns = {'Postal Code': 'Postcode'}, inplace=True)"
   ]
  },
  {
   "cell_type": "code",
   "execution_count": 10,
   "metadata": {
    "scrolled": true
   },
   "outputs": [],
   "source": [
    "df_new = pd.merge(df, df2, on='Postcode')"
   ]
  },
  {
   "cell_type": "code",
   "execution_count": 11,
   "metadata": {
    "scrolled": true
   },
   "outputs": [
    {
     "data": {
      "text/html": [
       "<div>\n",
       "<style scoped>\n",
       "    .dataframe tbody tr th:only-of-type {\n",
       "        vertical-align: middle;\n",
       "    }\n",
       "\n",
       "    .dataframe tbody tr th {\n",
       "        vertical-align: top;\n",
       "    }\n",
       "\n",
       "    .dataframe thead th {\n",
       "        text-align: right;\n",
       "    }\n",
       "</style>\n",
       "<table border=\"1\" class=\"dataframe\">\n",
       "  <thead>\n",
       "    <tr style=\"text-align: right;\">\n",
       "      <th></th>\n",
       "      <th>Postcode</th>\n",
       "      <th>Borough</th>\n",
       "      <th>Neighbourhood</th>\n",
       "      <th>Latitude</th>\n",
       "      <th>Longitude</th>\n",
       "    </tr>\n",
       "  </thead>\n",
       "  <tbody>\n",
       "    <tr>\n",
       "      <td>0</td>\n",
       "      <td>M1B</td>\n",
       "      <td>Scarborough</td>\n",
       "      <td>Rouge, Malvern</td>\n",
       "      <td>43.806686</td>\n",
       "      <td>-79.194353</td>\n",
       "    </tr>\n",
       "    <tr>\n",
       "      <td>1</td>\n",
       "      <td>M1C</td>\n",
       "      <td>Scarborough</td>\n",
       "      <td>Highland Creek, Rouge Hill, Port Union</td>\n",
       "      <td>43.784535</td>\n",
       "      <td>-79.160497</td>\n",
       "    </tr>\n",
       "    <tr>\n",
       "      <td>2</td>\n",
       "      <td>M1E</td>\n",
       "      <td>Scarborough</td>\n",
       "      <td>Guildwood, Morningside, West Hill</td>\n",
       "      <td>43.763573</td>\n",
       "      <td>-79.188711</td>\n",
       "    </tr>\n",
       "    <tr>\n",
       "      <td>3</td>\n",
       "      <td>M1G</td>\n",
       "      <td>Scarborough</td>\n",
       "      <td>Woburn</td>\n",
       "      <td>43.770992</td>\n",
       "      <td>-79.216917</td>\n",
       "    </tr>\n",
       "    <tr>\n",
       "      <td>4</td>\n",
       "      <td>M1H</td>\n",
       "      <td>Scarborough</td>\n",
       "      <td>Cedarbrae</td>\n",
       "      <td>43.773136</td>\n",
       "      <td>-79.239476</td>\n",
       "    </tr>\n",
       "    <tr>\n",
       "      <td>...</td>\n",
       "      <td>...</td>\n",
       "      <td>...</td>\n",
       "      <td>...</td>\n",
       "      <td>...</td>\n",
       "      <td>...</td>\n",
       "    </tr>\n",
       "    <tr>\n",
       "      <td>98</td>\n",
       "      <td>M9N</td>\n",
       "      <td>York</td>\n",
       "      <td>Weston</td>\n",
       "      <td>43.706876</td>\n",
       "      <td>-79.518188</td>\n",
       "    </tr>\n",
       "    <tr>\n",
       "      <td>99</td>\n",
       "      <td>M9P</td>\n",
       "      <td>Etobicoke</td>\n",
       "      <td>Westmount</td>\n",
       "      <td>43.696319</td>\n",
       "      <td>-79.532242</td>\n",
       "    </tr>\n",
       "    <tr>\n",
       "      <td>100</td>\n",
       "      <td>M9R</td>\n",
       "      <td>Etobicoke</td>\n",
       "      <td>Kingsview Village, Martin Grove Gardens, Richv...</td>\n",
       "      <td>43.688905</td>\n",
       "      <td>-79.554724</td>\n",
       "    </tr>\n",
       "    <tr>\n",
       "      <td>101</td>\n",
       "      <td>M9V</td>\n",
       "      <td>Etobicoke</td>\n",
       "      <td>Albion Gardens, Beaumond Heights, Humbergate, ...</td>\n",
       "      <td>43.739416</td>\n",
       "      <td>-79.588437</td>\n",
       "    </tr>\n",
       "    <tr>\n",
       "      <td>102</td>\n",
       "      <td>M9W</td>\n",
       "      <td>Etobicoke</td>\n",
       "      <td>Northwest</td>\n",
       "      <td>43.706748</td>\n",
       "      <td>-79.594054</td>\n",
       "    </tr>\n",
       "  </tbody>\n",
       "</table>\n",
       "<p>103 rows × 5 columns</p>\n",
       "</div>"
      ],
      "text/plain": [
       "    Postcode      Borough                                      Neighbourhood  \\\n",
       "0        M1B  Scarborough                                     Rouge, Malvern   \n",
       "1        M1C  Scarborough             Highland Creek, Rouge Hill, Port Union   \n",
       "2        M1E  Scarborough                  Guildwood, Morningside, West Hill   \n",
       "3        M1G  Scarborough                                             Woburn   \n",
       "4        M1H  Scarborough                                          Cedarbrae   \n",
       "..       ...          ...                                                ...   \n",
       "98       M9N         York                                             Weston   \n",
       "99       M9P    Etobicoke                                          Westmount   \n",
       "100      M9R    Etobicoke  Kingsview Village, Martin Grove Gardens, Richv...   \n",
       "101      M9V    Etobicoke  Albion Gardens, Beaumond Heights, Humbergate, ...   \n",
       "102      M9W    Etobicoke                                          Northwest   \n",
       "\n",
       "      Latitude  Longitude  \n",
       "0    43.806686 -79.194353  \n",
       "1    43.784535 -79.160497  \n",
       "2    43.763573 -79.188711  \n",
       "3    43.770992 -79.216917  \n",
       "4    43.773136 -79.239476  \n",
       "..         ...        ...  \n",
       "98   43.706876 -79.518188  \n",
       "99   43.696319 -79.532242  \n",
       "100  43.688905 -79.554724  \n",
       "101  43.739416 -79.588437  \n",
       "102  43.706748 -79.594054  \n",
       "\n",
       "[103 rows x 5 columns]"
      ]
     },
     "execution_count": 11,
     "metadata": {},
     "output_type": "execute_result"
    }
   ],
   "source": [
    "df_new"
   ]
  },
  {
   "cell_type": "markdown",
   "metadata": {},
   "source": [
    "## 3. Analysis <a name=\"Chapter3\"></a>"
   ]
  },
  {
   "cell_type": "markdown",
   "metadata": {},
   "source": [
    "At this stage the different neighbourhoods will be clustered and visualized."
   ]
  },
  {
   "cell_type": "code",
   "execution_count": 139,
   "metadata": {},
   "outputs": [
    {
     "name": "stdout",
     "output_type": "stream",
     "text": [
      "The geograpical coordinate of Groningen are 53.2190652, 6.5680077.\n"
     ]
    }
   ],
   "source": [
    "address = 'Groningen'\n",
    "\n",
    "geolocator = Nominatim(user_agent=\"my-application\")\n",
    "location = geolocator.geocode(address)\n",
    "latitude = location.latitude\n",
    "longitude = location.longitude\n",
    "print(f'The geograpical coordinate of Groningen are {latitude}, {longitude}.')"
   ]
  },
  {
   "cell_type": "markdown",
   "metadata": {},
   "source": [
    "### Creating a map from Toronto"
   ]
  },
  {
   "cell_type": "markdown",
   "metadata": {},
   "source": [
    "The first step is to generate a map of Toronto and attach markers using the created dataframe from before."
   ]
  },
  {
   "cell_type": "code",
   "execution_count": 140,
   "metadata": {},
   "outputs": [],
   "source": [
    "# to generate the latitude and longitude of Toronto.\n",
    "locations = df_new[['Latitude', 'Longitude']]\n",
    "locations_list = locations.values.tolist()"
   ]
  },
  {
   "cell_type": "code",
   "execution_count": 141,
   "metadata": {},
   "outputs": [
    {
     "data": {
      "text/html": [
       "<div style=\"width:100%;\"><div style=\"position:relative;width:100%;height:0;padding-bottom:60%;\"><iframe src=\"data:text/html;charset=utf-8;base64,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\" style=\"position:absolute;width:100%;height:100%;left:0;top:0;border:none !important;\" allowfullscreen webkitallowfullscreen mozallowfullscreen></iframe></div></div>"
      ],
      "text/plain": [
       "<folium.folium.Map at 0x17fb40ae2c8>"
      ]
     },
     "execution_count": 141,
     "metadata": {},
     "output_type": "execute_result"
    }
   ],
   "source": [
    "# create map of Toronto using latitude and longitude values\n",
    "map_toronto = folium.Map(location=[latitude, longitude],zoom_start=11)\n",
    "\n",
    "# Ger a nice layer over the folium map\n",
    "folium.TileLayer('cartodbdark_matter').add_to(map_toronto)\n",
    "\n",
    "# add markers to map\n",
    "for lat, lng, borough, neighborhood in zip(df_new['Latitude'], df_new['Longitude'], df_new['Borough'], df_new['Neighbourhood']):\n",
    "    label = f'{neighborhood}, {borough}'\n",
    "    label = folium.Popup(label, parse_html=True)\n",
    "    folium.CircleMarker(\n",
    "        [lat, lng],\n",
    "        radius=5,\n",
    "        popup=label,\n",
    "        color='blue',\n",
    "        fill=True,\n",
    "        fill_color='#3186cc',\n",
    "        fill_opacity=0.7).add_to(map_toronto)  \n",
    "    \n",
    "# to get the output    \n",
    "map_toronto"
   ]
  },
  {
   "cell_type": "markdown",
   "metadata": {},
   "source": [
    "## Using [Foursquare](https://foursquare.com/) to generate meaningfull data points"
   ]
  },
  {
   "cell_type": "code",
   "execution_count": 39,
   "metadata": {},
   "outputs": [],
   "source": [
    "CLIENT_ID = '' # your Foursquare ID\n",
    "CLIENT_SECRET = '' # your Foursquare Secret\n",
    "VERSION = '20180604'\n",
    "LIMIT = 100\n",
    "search_query = 'Italian'\n",
    "radius = 500"
   ]
  },
  {
   "cell_type": "code",
   "execution_count": 122,
   "metadata": {},
   "outputs": [],
   "source": [
    "venues = []\n",
    "\n",
    "for lat, long, post, borough, neighbourhood in zip(df_new['Latitude'], df_new['Longitude'], df_new['Postcode'], df_new['Borough'], df_new['Neighbourhood']):\n",
    "    url = f\"https://api.foursquare.com/v2/venues/explore?client_id={CLIENT_ID}&client_secret={CLIENT_SECRET}&v={VERSION}&ll={lat},{long}&radius={radius}&limit={LIMIT}\"\n",
    "\n",
    "    results = requests.get(url).json()[\"response\"]['groups'][0]['items']\n",
    "    \n",
    "    for venue in results:\n",
    "        venues.append((\n",
    "            post, \n",
    "            borough,\n",
    "            neighbourhood,\n",
    "            lat, \n",
    "            long, \n",
    "            venue['venue']['name'], \n",
    "            venue['venue']['location']['lat'], \n",
    "            venue['venue']['location']['lng'],  \n",
    "            venue['venue']['categories'][0]['name']))\n",
    "\n"
   ]
  },
  {
   "cell_type": "code",
   "execution_count": 123,
   "metadata": {},
   "outputs": [],
   "source": [
    "# convert the venues list into a new DataFrame\n",
    "venues_df = pd.DataFrame(venues)"
   ]
  },
  {
   "cell_type": "code",
   "execution_count": 133,
   "metadata": {},
   "outputs": [
    {
     "name": "stdout",
     "output_type": "stream",
     "text": [
      "(1341, 9)\n"
     ]
    },
    {
     "data": {
      "text/html": [
       "<div>\n",
       "<style scoped>\n",
       "    .dataframe tbody tr th:only-of-type {\n",
       "        vertical-align: middle;\n",
       "    }\n",
       "\n",
       "    .dataframe tbody tr th {\n",
       "        vertical-align: top;\n",
       "    }\n",
       "\n",
       "    .dataframe thead th {\n",
       "        text-align: right;\n",
       "    }\n",
       "</style>\n",
       "<table border=\"1\" class=\"dataframe\">\n",
       "  <thead>\n",
       "    <tr style=\"text-align: right;\">\n",
       "      <th></th>\n",
       "      <th>PostalCode</th>\n",
       "      <th>Borough</th>\n",
       "      <th>Neighbourhood</th>\n",
       "      <th>BoroughLatitude</th>\n",
       "      <th>BoroughLongitude</th>\n",
       "      <th>VenueName</th>\n",
       "      <th>VenueLatitude</th>\n",
       "      <th>VenueLongitude</th>\n",
       "      <th>VenueCategory</th>\n",
       "    </tr>\n",
       "  </thead>\n",
       "  <tbody>\n",
       "    <tr>\n",
       "      <td>0</td>\n",
       "      <td>M1B</td>\n",
       "      <td>Scarborough</td>\n",
       "      <td>Rouge, Malvern</td>\n",
       "      <td>43.806686</td>\n",
       "      <td>-79.194353</td>\n",
       "      <td>Wendy's</td>\n",
       "      <td>43.807448</td>\n",
       "      <td>-79.199056</td>\n",
       "      <td>Fast Food Restaurant</td>\n",
       "    </tr>\n",
       "    <tr>\n",
       "      <td>1</td>\n",
       "      <td>M1C</td>\n",
       "      <td>Scarborough</td>\n",
       "      <td>Highland Creek, Rouge Hill, Port Union</td>\n",
       "      <td>43.784535</td>\n",
       "      <td>-79.160497</td>\n",
       "      <td>Royal Canadian Legion</td>\n",
       "      <td>43.782533</td>\n",
       "      <td>-79.163085</td>\n",
       "      <td>Bar</td>\n",
       "    </tr>\n",
       "    <tr>\n",
       "      <td>2</td>\n",
       "      <td>M1E</td>\n",
       "      <td>Scarborough</td>\n",
       "      <td>Guildwood, Morningside, West Hill</td>\n",
       "      <td>43.763573</td>\n",
       "      <td>-79.188711</td>\n",
       "      <td>Swiss Chalet Rotisserie &amp; Grill</td>\n",
       "      <td>43.767697</td>\n",
       "      <td>-79.189914</td>\n",
       "      <td>Pizza Place</td>\n",
       "    </tr>\n",
       "    <tr>\n",
       "      <td>3</td>\n",
       "      <td>M1E</td>\n",
       "      <td>Scarborough</td>\n",
       "      <td>Guildwood, Morningside, West Hill</td>\n",
       "      <td>43.763573</td>\n",
       "      <td>-79.188711</td>\n",
       "      <td>G &amp; G Electronics</td>\n",
       "      <td>43.765309</td>\n",
       "      <td>-79.191537</td>\n",
       "      <td>Electronics Store</td>\n",
       "    </tr>\n",
       "    <tr>\n",
       "      <td>4</td>\n",
       "      <td>M1E</td>\n",
       "      <td>Scarborough</td>\n",
       "      <td>Guildwood, Morningside, West Hill</td>\n",
       "      <td>43.763573</td>\n",
       "      <td>-79.188711</td>\n",
       "      <td>Marina Spa</td>\n",
       "      <td>43.766000</td>\n",
       "      <td>-79.191000</td>\n",
       "      <td>Spa</td>\n",
       "    </tr>\n",
       "  </tbody>\n",
       "</table>\n",
       "</div>"
      ],
      "text/plain": [
       "  PostalCode      Borough                           Neighbourhood  \\\n",
       "0        M1B  Scarborough                          Rouge, Malvern   \n",
       "1        M1C  Scarborough  Highland Creek, Rouge Hill, Port Union   \n",
       "2        M1E  Scarborough       Guildwood, Morningside, West Hill   \n",
       "3        M1E  Scarborough       Guildwood, Morningside, West Hill   \n",
       "4        M1E  Scarborough       Guildwood, Morningside, West Hill   \n",
       "\n",
       "   BoroughLatitude  BoroughLongitude                        VenueName  \\\n",
       "0        43.806686        -79.194353                          Wendy's   \n",
       "1        43.784535        -79.160497            Royal Canadian Legion   \n",
       "2        43.763573        -79.188711  Swiss Chalet Rotisserie & Grill   \n",
       "3        43.763573        -79.188711                G & G Electronics   \n",
       "4        43.763573        -79.188711                       Marina Spa   \n",
       "\n",
       "   VenueLatitude  VenueLongitude         VenueCategory  \n",
       "0      43.807448      -79.199056  Fast Food Restaurant  \n",
       "1      43.782533      -79.163085                   Bar  \n",
       "2      43.767697      -79.189914           Pizza Place  \n",
       "3      43.765309      -79.191537     Electronics Store  \n",
       "4      43.766000      -79.191000                   Spa  "
      ]
     },
     "execution_count": 133,
     "metadata": {},
     "output_type": "execute_result"
    }
   ],
   "source": [
    "venues_df.head()\n",
    "\n",
    "# define the column names\n",
    "venues_df.columns = ['PostalCode', 'Borough', 'Neighbourhood', 'BoroughLatitude', 'BoroughLongitude', 'VenueName', 'VenueLatitude', 'VenueLongitude', 'VenueCategory']\n",
    "\n",
    "print(venues_df.shape)\n",
    "venues_df.head()"
   ]
  },
  {
   "cell_type": "markdown",
   "metadata": {},
   "source": [
    "### first lets see which venues are most prevalent within Toronto"
   ]
  },
  {
   "cell_type": "code",
   "execution_count": 138,
   "metadata": {
    "scrolled": true
   },
   "outputs": [
    {
     "data": {
      "text/plain": [
       "Coffee Shop                      91\n",
       "Café                             69\n",
       "Park                             43\n",
       "Pizza Place                      40\n",
       "Restaurant                       33\n",
       "Sandwich Place                   32\n",
       "Italian Restaurant               28\n",
       "Bakery                           27\n",
       "Grocery Store                    22\n",
       "Fast Food Restaurant             22\n",
       "Japanese Restaurant              20\n",
       "Bar                              20\n",
       "Gym                              20\n",
       "Sushi Restaurant                 18\n",
       "Pub                              18\n",
       "Pharmacy                         16\n",
       "Clothing Store                   16\n",
       "American Restaurant              14\n",
       "Thai Restaurant                  14\n",
       "Greek Restaurant                 14\n",
       "Breakfast Spot                   14\n",
       "Ice Cream Shop                   14\n",
       "Liquor Store                     13\n",
       "Chinese Restaurant               13\n",
       "Hotel                            13\n",
       "Gastropub                        13\n",
       "Diner                            12\n",
       "Dessert Shop                     12\n",
       "Bank                             12\n",
       "Steakhouse                       12\n",
       "Gym / Fitness Center             11\n",
       "Burger Joint                     11\n",
       "Seafood Restaurant               11\n",
       "Pet Store                        11\n",
       "Beer Bar                         10\n",
       "Convenience Store                10\n",
       "Middle Eastern Restaurant        10\n",
       "Fried Chicken Joint              10\n",
       "Mexican Restaurant               10\n",
       "Juice Bar                         9\n",
       "Indian Restaurant                 9\n",
       "Bookstore                         9\n",
       "Vietnamese Restaurant             9\n",
       "Deli / Bodega                     9\n",
       "Brewery                           8\n",
       "Tea Room                          8\n",
       "Discount Store                    8\n",
       "Beer Store                        8\n",
       "Furniture / Home Store            8\n",
       "Sporting Goods Shop               8\n",
       "Asian Restaurant                  8\n",
       "Farmers Market                    8\n",
       "Spa                               8\n",
       "Burrito Place                     7\n",
       "Cosmetics Shop                    7\n",
       "French Restaurant                 7\n",
       "Supermarket                       7\n",
       "Ramen Restaurant                  7\n",
       "Vegetarian / Vegan Restaurant     6\n",
       "Cocktail Bar                      6\n",
       "Intersection                      6\n",
       "Caribbean Restaurant              6\n",
       "Yoga Studio                       6\n",
       "Theater                           6\n",
       "Bus Line                          6\n",
       "Gas Station                       6\n",
       "Playground                        5\n",
       "Art Gallery                       5\n",
       "Arts & Crafts Store               5\n",
       "Trail                             5\n",
       "Skating Rink                      5\n",
       "Shopping Mall                     5\n",
       "Salad Place                       5\n",
       "Rental Car Location               5\n",
       "Noodle House                      5\n",
       "Electronics Store                 5\n",
       "Gift Shop                         5\n",
       "Plaza                             5\n",
       "Movie Theater                     5\n",
       "Athletics & Sports                5\n",
       "Department Store                  4\n",
       "Food & Drink Shop                 4\n",
       "Performing Arts Venue             4\n",
       "Fish Market                       4\n",
       "Pool                              4\n",
       "Nightclub                         4\n",
       "Butcher                           4\n",
       "Comfort Food Restaurant           4\n",
       "Neighborhood                      4\n",
       "Concert Hall                      4\n",
       "Bubble Tea Shop                   4\n",
       "Lounge                            4\n",
       "Museum                            4\n",
       "Boutique                          3\n",
       "Speakeasy                         3\n",
       "Gay Bar                           3\n",
       "Portuguese Restaurant             3\n",
       "Creperie                          3\n",
       "Airport Service                   3\n",
       "Baseball Field                    3\n",
       "Wine Bar                          3\n",
       "Music Venue                       3\n",
       "Sports Bar                        3\n",
       "Video Store                       3\n",
       "General Entertainment             3\n",
       "Salon / Barbershop                3\n",
       "Bistro                            3\n",
       "Fish & Chips Shop                 3\n",
       "Comic Shop                        3\n",
       "Hobby Shop                        3\n",
       "Gourmet Shop                      3\n",
       "Smoke Shop                        3\n",
       "New American Restaurant           3\n",
       "Food Truck                        3\n",
       "Metro Station                     3\n",
       "Cuban Restaurant                  2\n",
       "Airport Lounge                    2\n",
       "Food Court                        2\n",
       "Latin American Restaurant         2\n",
       "Construction & Landscaping        2\n",
       "Wine Shop                         2\n",
       "Dog Run                           2\n",
       "Market                            2\n",
       "Airport Terminal                  2\n",
       "Bike Shop                         2\n",
       "Tennis Court                      2\n",
       "Cheese Shop                       2\n",
       "Light Rail Station                2\n",
       "Jazz Club                         2\n",
       "Jewelry Store                     2\n",
       "Airport                           2\n",
       "Event Space                       2\n",
       "Korean Restaurant                 2\n",
       "Gluten-free Restaurant            2\n",
       "Basketball Court                  2\n",
       "Mediterranean Restaurant          2\n",
       "Toy / Game Store                  2\n",
       "Fountain                          2\n",
       "Dumpling Restaurant               2\n",
       "BBQ Joint                         2\n",
       "Chocolate Shop                    2\n",
       "Recording Studio                  2\n",
       "General Travel                    2\n",
       "Hockey Arena                      2\n",
       "Miscellaneous Shop                2\n",
       "Basketball Stadium                2\n",
       "Poke Place                        2\n",
       "Stadium                           1\n",
       "Tailor Shop                       1\n",
       "Frozen Yogurt Shop                1\n",
       "Wings Joint                       1\n",
       "Roof Deck                         1\n",
       "Carpet Store                      1\n",
       "Skate Park                        1\n",
       "Monument / Landmark               1\n",
       "Swim School                       1\n",
       "Belgian Restaurant                1\n",
       "Summer Camp                       1\n",
       "Insurance Office                  1\n",
       "Antique Shop                      1\n",
       "Empanada Restaurant               1\n",
       "Airport Food Court                1\n",
       "Field                             1\n",
       "Indie Movie Theater               1\n",
       "Music Store                       1\n",
       "Flea Market                       1\n",
       "Harbor / Marina                   1\n",
       "Hakka Restaurant                  1\n",
       "Eastern European Restaurant       1\n",
       "Motel                             1\n",
       "Candy Store                       1\n",
       "Social Club                       1\n",
       "Auto Workshop                     1\n",
       "Train Station                     1\n",
       "Modern European Restaurant        1\n",
       "Supplement Shop                   1\n",
       "Garden Center                     1\n",
       "Opera House                       1\n",
       "Tanning Salon                     1\n",
       "Plane                             1\n",
       "Business Service                  1\n",
       "Medical Center                    1\n",
       "Cajun / Creole Restaurant         1\n",
       "Warehouse Store                   1\n",
       "Donut Shop                        1\n",
       "College Stadium                   1\n",
       "Curling Ice                       1\n",
       "Snack Place                       1\n",
       "Women's Store                     1\n",
       "Accessories Store                 1\n",
       "Cafeteria                         1\n",
       "College Gym                       1\n",
       "Bus Stop                          1\n",
       "Falafel Restaurant                1\n",
       "Bridal Shop                       1\n",
       "Sculpture Garden                  1\n",
       "College Auditorium                1\n",
       "Hostel                            1\n",
       "History Museum                    1\n",
       "Golf Course                       1\n",
       "Other Great Outdoors              1\n",
       "Historic Site                     1\n",
       "Climbing Gym                      1\n",
       "Dim Sum Restaurant                1\n",
       "Indonesian Restaurant             1\n",
       "Organic Grocery                   1\n",
       "Lake                              1\n",
       "Hotel Bar                         1\n",
       "Soccer Field                      1\n",
       "Home Service                      1\n",
       "Coworking Space                   1\n",
       "Baby Store                        1\n",
       "Mobile Phone Shop                 1\n",
       "Health Food Store                 1\n",
       "Boat or Ferry                     1\n",
       "Fruit & Vegetable Store           1\n",
       "Garden                            1\n",
       "Auto Garage                       1\n",
       "Record Shop                       1\n",
       "Gaming Cafe                       1\n",
       "Theme Restaurant                  1\n",
       "College Arts Building             1\n",
       "Hardware Store                    1\n",
       "Ethiopian Restaurant              1\n",
       "Massage Studio                    1\n",
       "Shopping Plaza                    1\n",
       "Nail Salon                        1\n",
       "Flower Shop                       1\n",
       "Video Game Store                  1\n",
       "Stationery Store                  1\n",
       "River                             1\n",
       "Food                              1\n",
       "Drugstore                         1\n",
       "Church                            1\n",
       "Taiwanese Restaurant              1\n",
       "Dance Studio                      1\n",
       "Bus Station                       1\n",
       "Name: VenueCategory, dtype: int64"
      ]
     },
     "execution_count": 138,
     "metadata": {},
     "output_type": "execute_result"
    }
   ],
   "source": [
    "venues_df.VenueCategory.value_counts()"
   ]
  },
  {
   "cell_type": "markdown",
   "metadata": {},
   "source": [
    "It looks like that in Toronto there are substantially more coffee shops and cafes, when comparing them on first glance to the other venues.\n",
    "\n",
    "It would be interesting to see which neighbourhood has the most Coffee shops and cafes in Toronto."
   ]
  },
  {
   "cell_type": "code",
   "execution_count": null,
   "metadata": {},
   "outputs": [],
   "source": []
  }
 ],
 "metadata": {
  "kernelspec": {
   "display_name": "Python 3",
   "language": "python",
   "name": "python3"
  },
  "language_info": {
   "codemirror_mode": {
    "name": "ipython",
    "version": 3
   },
   "file_extension": ".py",
   "mimetype": "text/x-python",
   "name": "python",
   "nbconvert_exporter": "python",
   "pygments_lexer": "ipython3",
   "version": "3.7.4"
  },
  "toc": {
   "base_numbering": 1,
   "nav_menu": {},
   "number_sections": false,
   "sideBar": false,
   "skip_h1_title": false,
   "title_cell": "Table of Contents",
   "title_sidebar": "Contents",
   "toc_cell": false,
   "toc_position": {},
   "toc_section_display": false,
   "toc_window_display": false
  }
 },
 "nbformat": 4,
 "nbformat_minor": 2
}
